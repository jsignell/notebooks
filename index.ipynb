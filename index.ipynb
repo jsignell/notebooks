{
 "cells": [
  {
   "cell_type": "markdown",
   "metadata": {
    "slideshow": {
     "slide_type": "slide"
    }
   },
   "source": [
    "## Data-centric exploration using intake, dask, hvplot, datashader, panel, and binder\n",
    "\n",
    "<h4 align=right>Julia Signell | @jsignell</h4>\n",
    "\n",
    "In this talk we will start with data files, ingest the data, do a quick first pass at visualization and end at a deployed dashboard, using a set of open-source packages that have been designed to work well together. In particular, the audience will learn to:\n",
    "\n",
    "- ingest data from almost any file format with **intake**\n",
    "- even large data thanks to **dask**\n",
    "- quickly inspect **pandas**, **xarray**, or streaming data with **hvplot**\n",
    "- interact with plots in web browsers using **bokeh**\n",
    "- plot large datasets with **datashader**\n",
    "- create dashboards with **panel**\n",
    "- deploy dashboards on **binder**\n"
   ]
  },
  {
   "cell_type": "markdown",
   "metadata": {
    "slideshow": {
     "slide_type": "slide"
    }
   },
   "source": [
    "## Talk Structure\n",
    "\n",
    "We will be exploring three different datasets: \n",
    "  - anaconda package download data (tabular, categorical, timeseries, stored as parquet, too big to fit in memory)\n",
    "  - satellite imagery (raster, geo-referenced, stored as geotiff)\n",
    "  - locations of trees (tabular, geo-referenced, stored as geojson, too big to plot as points)"
   ]
  },
  {
   "cell_type": "markdown",
   "metadata": {
    "slideshow": {
     "slide_type": "slide"
    }
   },
   "source": [
    "### Case 1: Anaconda Package Download Data\n",
    "\n",
    "We'll start by looking at anaconda package download data. These data are stored in daily parquet files and dumped in an s3 bucket. See the source code and access a running instance from https://github.com/ContinuumIO/anaconda-package-data. In this example we'll be mostly talking about intake and panel. "
   ]
  },
  {
   "cell_type": "markdown",
   "metadata": {
    "slideshow": {
     "slide_type": "subslide"
    }
   },
   "source": [
    "<img src='assets/anaconda_package_dashboard.png' width=90% float=center/>"
   ]
  },
  {
   "cell_type": "markdown",
   "metadata": {
    "slideshow": {
     "slide_type": "subslide"
    }
   },
   "source": [
    "### First - what is intake? \n",
    " - provides a layer of abstraction between the data and the user\n",
    " - captures the dependencies of a particular dataset\n",
    " - reduces copy and pasting between notebooks\n",
    " \n",
    "We're going to start by talking about some different ways to use intake."
   ]
  },
  {
   "cell_type": "markdown",
   "metadata": {
    "slideshow": {
     "slide_type": "subslide"
    }
   },
   "source": [
    "### Next - what is panel?\n",
    " - provides APIs for interactivity\n",
    " - allows others to explore data without writing code\n",
    " - doesn't make you write javascript"
   ]
  },
  {
   "cell_type": "markdown",
   "metadata": {
    "slideshow": {
     "slide_type": "slide"
    }
   },
   "source": [
    "### Case 2: Satellite Imagery/Locations of Trees\n",
    "\n",
    "The second two datasets are actually related because we'll use them to explore the relationship between surface temperature and the location of street trees in Philadelphia. In this part of the talk we'll be focusing on how to create plots using hvplot. The materials for this part of the talk can be found at https://github.com/jsignell/heat_and_trees."
   ]
  },
  {
   "cell_type": "markdown",
   "metadata": {
    "slideshow": {
     "slide_type": "subslide"
    }
   },
   "source": [
    "<a href=https://jsignell.github.io/heat_and_trees.html><img src=assets/heat_and_trees.png width=90% align=center /></a>"
   ]
  },
  {
   "cell_type": "markdown",
   "metadata": {
    "slideshow": {
     "slide_type": "subslide"
    }
   },
   "source": [
    "### What is hvplot?\n",
    " - mimics the `.plot` API that you get in pandas\n",
    " - but instead of matplotlib outputs, holoviews objects - rendered in bokeh\n",
    " - integrates with geoviews, datashader\n",
    " - supports pandas, geopandas, dask, xarray, streamz"
   ]
  },
  {
   "cell_type": "markdown",
   "metadata": {
    "slideshow": {
     "slide_type": "slide"
    }
   },
   "source": [
    "## Learn More\n",
    "\n",
    "To learn more about these tools see [HoloViz](https://holoviz.org) or any of the individual libraries. Or talk to me!"
   ]
  }
 ],
 "metadata": {
  "celltoolbar": "Slideshow",
  "kernelspec": {
   "display_name": "Python 3",
   "language": "python",
   "name": "python3"
  },
  "language_info": {
   "codemirror_mode": {
    "name": "ipython",
    "version": 3
   },
   "file_extension": ".py",
   "mimetype": "text/x-python",
   "name": "python",
   "nbconvert_exporter": "python",
   "pygments_lexer": "ipython3",
   "version": "3.7.3"
  }
 },
 "nbformat": 4,
 "nbformat_minor": 4
}
